{
  "nbformat": 4,
  "nbformat_minor": 0,
  "metadata": {
    "colab": {
      "name": "HW3n1DataJarLabs.ipynb",
      "provenance": []
    },
    "kernelspec": {
      "name": "python3",
      "display_name": "Python 3"
    }
  },
  "cells": [
    {
      "cell_type": "code",
      "metadata": {
        "id": "rL2zVJiZ2Wpu",
        "colab_type": "code",
        "colab": {}
      },
      "source": [
        "import pandas as pd \n",
        "import numpy as np\n",
        "import matplotlib.pyplot as plt\n",
        "pop=pd.DataFrame()"
      ],
      "execution_count": 0,
      "outputs": []
    },
    {
      "cell_type": "code",
      "metadata": {
        "id": "V3f2kF-32N9-",
        "colab_type": "code",
        "colab": {}
      },
      "source": [
        "sample=pd.DataFrame() #Bu üçünün ortalama,medyan,mod,  ,Varyans,StandartSapma,StandartHatasını hesaplıycaz\n",
        "pop['first']=np.random.normal(55, 10, 10000)\n",
        "pop['second']=np.random.normal(100, 50, 10000)\n",
        "pop['third']=np.random.normal(500, 500, 10000)"
      ],
      "execution_count": 0,
      "outputs": []
    },
    {
      "cell_type": "code",
      "metadata": {
        "id": "ZCIX69J02-p3",
        "colab_type": "code",
        "colab": {
          "base_uri": "https://localhost:8080/",
          "height": 281
        },
        "outputId": "2807ca5f-875e-4ed1-8f0f-e0df2a68951e"
      },
      "source": [
        "pop.hist(layout=(3, 1), sharex=True)\n",
        "plt.show()"
      ],
      "execution_count": 6,
      "outputs": [
        {
          "output_type": "display_data",
          "data": {
            "image/png": "[encoded data removed]",
            "text/plain": [
              "<Figure size 432x288 with 3 Axes>"
            ]
          },
          "metadata": {
            "tags": []
          }
        }
      ]
    },
    {
      "cell_type": "code",
      "metadata": {
        "id": "4G_yEeCQ582s",
        "colab_type": "code",
        "colab": {
          "base_uri": "https://localhost:8080/",
          "height": 50
        },
        "outputId": "ae59b415-3871-4fe5-898d-fe6b9c5374c3"
      },
      "source": [
        "print('YapayMean :',sum(pop['first']) / len(pop['first'])) # Meanler\n",
        "print('HazırMean :',np.mean(pop['first']))"
      ],
      "execution_count": 18,
      "outputs": [
        {
          "output_type": "stream",
          "text": [
            "YapayMean : 55.085548266922196\n",
            "HazırMean : 55.085548266922196\n"
          ],
          "name": "stdout"
        }
      ]
    },
    {
      "cell_type": "code",
      "metadata": {
        "id": "Aedn4ukx58gy",
        "colab_type": "code",
        "colab": {
          "base_uri": "https://localhost:8080/",
          "height": 50
        },
        "outputId": "3c3ee7e8-137b-48d9-f9cc-16f22b1b34c2"
      },
      "source": [
        "print('YapayMean :',sum(pop['second']) / len(pop['second']))\n",
        "print('HazırMean :',np.mean(pop['second']))"
      ],
      "execution_count": 19,
      "outputs": [
        {
          "output_type": "stream",
          "text": [
            "YapayMean : 100.7106836453352\n",
            "HazırMean : 100.7106836453352\n"
          ],
          "name": "stdout"
        }
      ]
    },
    {
      "cell_type": "code",
      "metadata": {
        "id": "y86XCOVj4-xG",
        "colab_type": "code",
        "colab": {
          "base_uri": "https://localhost:8080/",
          "height": 50
        },
        "outputId": "3d488788-e547-4bb8-a808-e9e314ae83f4"
      },
      "source": [
        "print('YapayMean :',sum(pop['third']) / len(pop['third']))\n",
        "print('HazırMean :',np.mean(pop['third']))"
      ],
      "execution_count": 20,
      "outputs": [
        {
          "output_type": "stream",
          "text": [
            "YapayMean : 498.06388466631614\n",
            "HazırMean : 498.06388466631614\n"
          ],
          "name": "stdout"
        }
      ]
    },
    {
      "cell_type": "code",
      "metadata": {
        "id": "q2doAjCO3i40",
        "colab_type": "code",
        "colab": {
          "base_uri": "https://localhost:8080/",
          "height": 67
        },
        "outputId": "0dd67afa-7c00-4bed-a261-4c9df0394e3b"
      },
      "source": [
        "print('first :',np.median(pop['first'])) #numpy medyanı kolay \n",
        "print('second :',np.median(pop['second']))\n",
        "print('third :',np.median(pop['third']))"
      ],
      "execution_count": 21,
      "outputs": [
        {
          "output_type": "stream",
          "text": [
            "first : 55.02000506390691\n",
            "second : 100.3808520366595\n",
            "third : 499.49802011977187\n"
          ],
          "name": "stdout"
        }
      ]
    },
    {
      "cell_type": "code",
      "metadata": {
        "id": "alR40prk4yrI",
        "colab_type": "code",
        "colab": {
          "base_uri": "https://localhost:8080/",
          "height": 218
        },
        "outputId": "14be5188-ff97-415f-e8ec-da09e22ddead"
      },
      "source": [
        "print(pop['first'])#Bi baktım öylesine"
      ],
      "execution_count": 27,
      "outputs": [
        {
          "output_type": "stream",
          "text": [
            "0       70.249894\n",
            "1       53.775092\n",
            "2       56.067022\n",
            "3       64.834714\n",
            "4       45.205663\n",
            "          ...    \n",
            "9995    52.331558\n",
            "9996    61.130279\n",
            "9997    60.138654\n",
            "9998    68.439711\n",
            "9999    57.561713\n",
            "Name: first, Length: 10000, dtype: float64\n"
          ],
          "name": "stdout"
        }
      ]
    },
    {
      "cell_type": "code",
      "metadata": {
        "id": "AyGSFbdR7Tb6",
        "colab_type": "code",
        "colab": {}
      },
      "source": [
        "import statistics # Mod bulurken bir hata yaptım sanırım emin değilim manuel hesaplamada çıkan değerler de hoşuma gitmedi bi bakmak lazım\n",
        "print('firstMod :',statistics.mode(pop['first']))\n",
        "print('secondMod :',statistics.mode(pop['second']))\n",
        "print('thirdMod :',statistics.mode(pop['third']))"
      ],
      "execution_count": 0,
      "outputs": []
    },
    {
      "cell_type": "code",
      "metadata": {
        "id": "eC4Kb1uk74Bf",
        "colab_type": "code",
        "colab": {
          "base_uri": "https://localhost:8080/",
          "height": 34
        },
        "outputId": "538608f8-8d08-4197-b777-f66fa6d3bd43"
      },
      "source": [
        "(values, counts) = np.unique(pop['first'], return_counts=True) \n",
        "ind = np.argmax(counts)\n",
        "values[ind]"
      ],
      "execution_count": 30,
      "outputs": [
        {
          "output_type": "execute_result",
          "data": {
            "text/plain": [
              "17.997660890999242"
            ]
          },
          "metadata": {
            "tags": []
          },
          "execution_count": 30
        }
      ]
    },
    {
      "cell_type": "code",
      "metadata": {
        "id": "614sYU4A8amb",
        "colab_type": "code",
        "colab": {
          "base_uri": "https://localhost:8080/",
          "height": 34
        },
        "outputId": "bf442812-cd1e-4df1-f176-415f733bee7d"
      },
      "source": [
        "(values, counts) = np.unique(pop['second'], return_counts=True)\n",
        "ind = np.argmax(counts)\n",
        "values[ind]"
      ],
      "execution_count": 31,
      "outputs": [
        {
          "output_type": "execute_result",
          "data": {
            "text/plain": [
              "-106.2451569203275"
            ]
          },
          "metadata": {
            "tags": []
          },
          "execution_count": 31
        }
      ]
    },
    {
      "cell_type": "code",
      "metadata": {
        "id": "2Uko2NQ38vdX",
        "colab_type": "code",
        "colab": {
          "base_uri": "https://localhost:8080/",
          "height": 118
        },
        "outputId": "f62543e6-31e5-42ad-874a-d8ba2dd2cd85"
      },
      "source": [
        "print('firstVar :',np.var(pop['first'],ddof=1))\n",
        "print('secondVar :',np.var(pop['second'],ddof=1))\n",
        "print('thirdVar :',np.var(pop['third'],ddof=1))\n",
        "print('firstVar :',pop['first'].var())\n",
        "print('secondVar :',pop['second'].var())\n",
        "print('thirdVar :',pop['third'].var())"
      ],
      "execution_count": 40,
      "outputs": [
        {
          "output_type": "stream",
          "text": [
            "firstVar : 98.38000252195125\n",
            "secondVar : 2503.976666871225\n",
            "thirdVar : 250116.4472317001\n",
            "firstVar : 98.38000252195125\n",
            "secondVar : 2503.976666871225\n",
            "thirdVar : 250116.4472317001\n"
          ],
          "name": "stdout"
        }
      ]
    },
    {
      "cell_type": "code",
      "metadata": {
        "id": "af0Wn7tM946Q",
        "colab_type": "code",
        "colab": {
          "base_uri": "https://localhost:8080/",
          "height": 67
        },
        "outputId": "2d594e10-e33a-43b0-a965-46c943c1fd7a"
      },
      "source": [
        "print('firstStd :',np.std(pop['first'], ddof=1))\n",
        "print('secondStd :',np.std(pop['second'], ddof=1))\n",
        "print('thirdStd :',np.std(pop['third'], ddof=1))"
      ],
      "execution_count": 42,
      "outputs": [
        {
          "output_type": "stream",
          "text": [
            "firstStd : 9.918669392713483\n",
            "secondStd : 50.039750867397665\n",
            "thirdStd : 500.11643367489944\n"
          ],
          "name": "stdout"
        }
      ]
    },
    {
      "cell_type": "code",
      "metadata": {
        "id": "WWcJAELf-8AX",
        "colab_type": "code",
        "colab": {
          "base_uri": "https://localhost:8080/",
          "height": 67
        },
        "outputId": "4a0c639a-8407-4780-f290-5005444d1f44"
      },
      "source": [
        "print('firstStdErr :',np.std(pop['first'] ,ddof=1) / np.sqrt(len(pop['first'])))\n",
        "print('secondStdErr :',np.std(pop['second'] ,ddof=1) / np.sqrt(len(pop['second'])))\n",
        "print('thirdStdErr :',np.std(pop['third'] ,ddof=1) / np.sqrt(len(pop['third'])))"
      ],
      "execution_count": 45,
      "outputs": [
        {
          "output_type": "stream",
          "text": [
            "firstStdErr : 0.09918669392713482\n",
            "secondStdErr : 0.5003975086739767\n",
            "thirdStdErr : 5.001164336748994\n"
          ],
          "name": "stdout"
        }
      ]
    }
  ]
}